{
 "cells": [
  {
   "cell_type": "markdown",
   "id": "9d2850eb",
   "metadata": {},
   "source": [
    "### Aprender con learning microsof\n",
    "\n",
    "https://learn.microsoft.com/es-es/azure/quantum/concepts-vectors-and-matrices"
   ]
  },
  {
   "cell_type": "markdown",
   "id": "6db4e4e6",
   "metadata": {},
   "source": [
    "### Aprender con los katas de Microsfot Quantum\n",
    "\n",
    "https://quantum.microsoft.com/en-us/tools/quantum-katas"
   ]
  },
  {
   "cell_type": "markdown",
   "id": "e3f9db56",
   "metadata": {},
   "source": [
    "# Voltear un qubit\n",
    "\n",
    "**Entrada:** Un qubit en el estado |0>.\n",
    "\n",
    "**Objetivo:** Aplicar la puerta X al qubit, es decir, realizar un \"cambio de bit\" para cambiar al estado opuesto.\n"
   ]
  },
  {
   "cell_type": "code",
   "execution_count": null,
   "id": "a6a2077e",
   "metadata": {},
   "outputs": [],
   "source": [
    "import qsharp"
   ]
  },
  {
   "cell_type": "code",
   "execution_count": 6,
   "id": "e0c5ce97",
   "metadata": {},
   "outputs": [],
   "source": [
    "%%qsharp\n",
    "namespace Kata {\n",
    "    operation FlipQubit(q : Qubit) : Unit is Adj + Ctl {\n",
    "        // Uncomment the following line to solve this exercise.\n",
    "        X(q);\n",
    "    }\n",
    "}"
   ]
  },
  {
   "cell_type": "markdown",
   "id": "3a07048a",
   "metadata": {},
   "source": [
    "# Suma de números complejos: función qsharp\n",
    "\n",
    "Entrada: dos números complejos x e y.\n",
    "\n",
    "- número complejo x= a + bi\n",
    "\n",
    "- número complejo y = c + di\n",
    "\n",
    "Objetivo: La suma de números complejos se realiza igual que la suma de polinomios. \n",
    "\n",
    "Se suman los coeficientes de las variables iguales, es decir, parte real se suma con parte real y parte imaginaria con parte imaginaria.\n",
    "\n",
    "En este caso:  z = x+y = (a+c)+(b+d)i    \n",
    "\n",
    "<img src=\"./images/sumaComplejos.PNG\"/>\n"
   ]
  },
  {
   "cell_type": "markdown",
   "id": "a2e786f6",
   "metadata": {},
   "source": [
    "# Multiplicación de números complejos\n",
    "\n",
    "Se multiplican los números complejos como se multiplican los polinomios. Es una multiplicación binómica.\n",
    "\n",
    "Primero se multiplica cada parte de uno por cada parte del otro. \n",
    "\n",
    "Dicho de otra manera se trata de distribuir cada término de un factor por todos los términos del otro:\n",
    "\n",
    "x = a + bi\n",
    "\n",
    "y = c + di    \n",
    "\n",
    "xy= a * (c + di) + bi * (c + di)  \n",
    "\n",
    "Sabiendo que i^2=-1 entonces:\n",
    "\n",
    "xy = ac + adi + bci - bd --> (bdi^2 = bd(-1) = -bc)\n",
    "\n",
    "Otra manera de hacer esta multiplicación es realiar la multiplicació de todos los términos entre sí, para luego\n",
    "agruparlos según sus partes reales e imaginarias.\n",
    "\n",
    "\n",
    "<img src=\"./images/multiplicacionComplejos.PNG\"/>"
   ]
  }
 ],
 "metadata": {
  "kernelspec": {
   "display_name": "CondaCodingMQKatasEnvironment",
   "language": "python",
   "name": "python3"
  },
  "language_info": {
   "codemirror_mode": {
    "name": "ipython",
    "version": 3
   },
   "file_extension": ".py",
   "mimetype": "text/x-python",
   "name": "python",
   "nbconvert_exporter": "python",
   "pygments_lexer": "ipython3",
   "version": "3.13.5"
  }
 },
 "nbformat": 4,
 "nbformat_minor": 5
}
