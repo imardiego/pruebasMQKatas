{
 "cells": [
  {
   "cell_type": "markdown",
   "id": "9d2850eb",
   "metadata": {},
   "source": [
    "### Aprender con learning microsof\n",
    "\n",
    "https://learn.microsoft.com/es-es/azure/quantum/concepts-vectors-and-matrices"
   ]
  },
  {
   "cell_type": "markdown",
   "id": "6db4e4e6",
   "metadata": {},
   "source": [
    "### Aprender con los katas de Microsfot Quantum\n",
    "\n",
    "https://quantum.microsoft.com/en-us/tools/quantum-katas"
   ]
  }
 ],
 "metadata": {
  "language_info": {
   "name": "python"
  }
 },
 "nbformat": 4,
 "nbformat_minor": 5
}
