{
 "cells": [
  {
   "cell_type": "markdown",
   "id": "7b30b048",
   "metadata": {},
   "source": [
    "### Flip a Qubit"
   ]
  },
  {
   "cell_type": "code",
   "execution_count": 4,
   "id": "079a0ad4",
   "metadata": {},
   "outputs": [
    {
     "name": "stdout",
     "output_type": "stream",
     "text": [
      "Requirement already satisfied: qsharp in /home/miguel/miniconda3/envs/CondaCodingMQKatasEnvironment/lib/python3.13/site-packages (1.20.0)\n",
      "\u001b[33mWARNING: Retrying (Retry(total=4, connect=None, read=None, redirect=None, status=None)) after connection broken by 'NewConnectionError('<pip._vendor.urllib3.connection.HTTPSConnection object at 0x744745a32e40>: Failed to establish a new connection: [Errno -3] Temporary failure in name resolution')': /simple/qsharp/\u001b[0m\u001b[33m\n",
      "\u001b[0m\u001b[33mWARNING: Retrying (Retry(total=3, connect=None, read=None, redirect=None, status=None)) after connection broken by 'NewConnectionError('<pip._vendor.urllib3.connection.HTTPSConnection object at 0x74474590c050>: Failed to establish a new connection: [Errno -3] Temporary failure in name resolution')': /simple/qsharp/\u001b[0m\u001b[33m\n",
      "\u001b[0m^C\n",
      "Note: you may need to restart the kernel to use updated packages.\n"
     ]
    }
   ],
   "source": [
    "%pip install qsharp --upgrade"
   ]
  },
  {
   "cell_type": "code",
   "execution_count": 3,
   "id": "c6ed921a",
   "metadata": {},
   "outputs": [
    {
     "ename": "SyntaxError",
     "evalue": "invalid syntax (2636510678.py, line 2)",
     "output_type": "error",
     "traceback": [
      "  \u001b[36mCell\u001b[39m\u001b[36m \u001b[39m\u001b[32mIn[3]\u001b[39m\u001b[32m, line 2\u001b[39m\n\u001b[31m    \u001b[39m\u001b[31mnamespace Kata {\u001b[39m\n              ^\n\u001b[31mSyntaxError\u001b[39m\u001b[31m:\u001b[39m invalid syntax\n"
     ]
    }
   ],
   "source": [
    "import qsharp\n",
    "namespace Kata {\n",
    "    operation FlipQubit(q : Qubit) : Unit is Adj + Ctl {\n",
    "        // Uncomment the following line to solve this exercise.\n",
    "        X(q);\n",
    "    }\n",
    "}"
   ]
  }
 ],
 "metadata": {
  "kernelspec": {
   "display_name": "CondaCodingMQKatasEnvironment",
   "language": "python",
   "name": "python3"
  },
  "language_info": {
   "codemirror_mode": {
    "name": "ipython",
    "version": 3
   },
   "file_extension": ".py",
   "mimetype": "text/x-python",
   "name": "python",
   "nbconvert_exporter": "python",
   "pygments_lexer": "ipython3",
   "version": "3.13.5"
  }
 },
 "nbformat": 4,
 "nbformat_minor": 5
}
